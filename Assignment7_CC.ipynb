{
 "cells": [
  {
   "cell_type": "code",
   "execution_count": 1,
   "id": "d6078616-b81e-4eb7-b302-008003320b0a",
   "metadata": {},
   "outputs": [
    {
     "name": "stdout",
     "output_type": "stream",
     "text": [
      "     Electronics  Clothing  Home & Kitchen  Sports\n",
      "Jan         4174      4507            1860    2294\n",
      "Feb         2130      2095            4772    4092\n",
      "Mar         2638      3169            1466    2238\n",
      "Apr         1330      2482            3135    4444\n",
      "May         4171      3919            4735    1130\n",
      "Jun         2685      4380            1769    3391\n",
      "Jul         2515      4485            3853    3433\n",
      "Aug         2215      1955            3324    2184\n",
      "Sep         1459      4385            1021    3300\n",
      "Oct         1747      3904            4632    1474\n",
      "Nov         2082      3558            4753    3047\n",
      "Dec         4547      3747            1975    2806\n"
     ]
    }
   ],
   "source": [
    "import numpy as np\n",
    "import pandas as pd\n",
    "\n",
    "np.random.seed(42)\n",
    "sales_data = np.random.randint(1000, 5001, size=(12, 4))\n",
    "months = [\"Jan\", \"Feb\", \"Mar\", \"Apr\", \"May\", \"Jun\", \"Jul\", \"Aug\", \"Sep\", \"Oct\", \"Nov\", \"Dec\"]\n",
    "categories = [\"Electronics\", \"Clothing\", \"Home & Kitchen\", \"Sports\"]\n",
    "\n",
    "sales_df = pd.DataFrame(sales_data, columns=categories, index=months)\n",
    "print(sales_df)\n"
   ]
  },
  {
   "cell_type": "code",
   "execution_count": 2,
   "id": "3183d91c-2fd6-411e-8e93-56d1fc72e619",
   "metadata": {},
   "outputs": [
    {
     "name": "stdout",
     "output_type": "stream",
     "text": [
      "     Electronics  Clothing  Home & Kitchen  Sports\n",
      "Jan         4174      4507            1860    2294\n",
      "Feb         2130      2095            4772    4092\n",
      "Mar         2638      3169            1466    2238\n",
      "Apr         1330      2482            3135    4444\n",
      "May         4171      3919            4735    1130\n",
      "       Electronics     Clothing  Home & Kitchen       Sports\n",
      "count    12.000000    12.000000       12.000000    12.000000\n",
      "mean   2641.083333  3548.833333     3107.916667  2819.416667\n",
      "std    1087.608089   925.564578     1437.576335   996.676428\n",
      "min    1330.000000  1955.000000     1021.000000  1130.000000\n",
      "25%    1998.250000  2997.250000     1837.250000  2224.500000\n",
      "50%    2365.000000  3825.500000     3229.500000  2926.500000\n",
      "75%    3056.500000  4381.250000     4657.750000  3401.500000\n",
      "max    4547.000000  4507.000000     4772.000000  4444.000000\n",
      "     Electronics  Clothing  Home & Kitchen  Sports  Total Sales  Growth Rate\n",
      "Jan       3756.6      4507            1860    2294        12835          NaN\n",
      "Feb       1917.0      2095            4772    4092        13089     1.978964\n",
      "Mar       2374.2      3169            1466    2238         9511   -27.335931\n",
      "Apr       1197.0      2482            3135    4444        11391    19.766586\n",
      "May       3753.9      3919            4735    1130        13955    22.508998\n",
      "Jun       2416.5      4380            1769    3391        12225   -12.396990\n",
      "Jul       2263.5      4485            3853    3433        14286    16.858896\n",
      "Aug       1993.5      1955            3324    2184         9678   -32.255355\n",
      "Sep       1313.1      4385            1021    3300        10165     5.032031\n",
      "Oct       1572.3      3904            4632    1474        11757    15.661584\n",
      "Nov       1873.8      3558            4753    3047        13440    14.314876\n",
      "Dec       4092.3      3747            1975    2806        13075    -2.715774\n"
     ]
    }
   ],
   "source": [
    "import numpy as np\n",
    "import pandas as pd\n",
    "\n",
    "np.random.seed(42)\n",
    "sales_data = np.random.randint(1000, 5001, size=(12, 4))\n",
    "months = [\"Jan\", \"Feb\", \"Mar\", \"Apr\", \"May\", \"Jun\", \"Jul\", \"Aug\", \"Sep\", \"Oct\", \"Nov\", \"Dec\"]\n",
    "categories = [\"Electronics\", \"Clothing\", \"Home & Kitchen\", \"Sports\"]\n",
    "\n",
    "sales_df = pd.DataFrame(sales_data, columns=categories, index=months)\n",
    "\n",
    "print(sales_df.head())\n",
    "print(sales_df.describe())\n",
    "sales_per_category = sales_df.sum()\n",
    "sales_df[\"Total Sales\"] = sales_df.sum(axis=1)\n",
    "sales_growth = sales_df.diff().mean()\n",
    "\n",
    "sales_df[\"Growth Rate\"] = sales_df[\"Total Sales\"].pct_change() * 100\n",
    "\n",
    "def apply_discount(df, roll_number):\n",
    "    if roll_number % 2 == 0:\n",
    "        df[\"Electronics\"] *= 0.9  \n",
    "    else:\n",
    "        df[\"Clothing\"] *= 0.85  \n",
    "    return df\n",
    "roll_number = 24  \n",
    "sales_df = apply_discount(sales_df, roll_number)\n",
    "\n",
    "print(sales_df)\n"
   ]
  },
  {
   "cell_type": "code",
   "execution_count": 4,
   "id": "c8c3e986-ef6a-4568-b24f-95dba4da3838",
   "metadata": {},
   "outputs": [
    {
     "ename": "NameError",
     "evalue": "name 'plt' is not defined",
     "output_type": "error",
     "traceback": [
      "\u001b[1;31m---------------------------------------------------------------------------\u001b[0m",
      "\u001b[1;31mNameError\u001b[0m                                 Traceback (most recent call last)",
      "Cell \u001b[1;32mIn[4], line 2\u001b[0m\n\u001b[0;32m      1\u001b[0m get_ipython()\u001b[38;5;241m.\u001b[39mrun_line_magic(\u001b[38;5;124m'\u001b[39m\u001b[38;5;124mmatplotlib\u001b[39m\u001b[38;5;124m'\u001b[39m, \u001b[38;5;124m'\u001b[39m\u001b[38;5;124minline\u001b[39m\u001b[38;5;124m'\u001b[39m)\n\u001b[1;32m----> 2\u001b[0m \u001b[43mplt\u001b[49m\u001b[38;5;241m.\u001b[39mfigure(figsize\u001b[38;5;241m=\u001b[39m(\u001b[38;5;241m10\u001b[39m, \u001b[38;5;241m6\u001b[39m))\n\u001b[0;32m      3\u001b[0m \u001b[38;5;28;01mfor\u001b[39;00m category \u001b[38;5;129;01min\u001b[39;00m categories:\n\u001b[0;32m      4\u001b[0m     plt\u001b[38;5;241m.\u001b[39mplot(sales_df\u001b[38;5;241m.\u001b[39mindex, sales_df[category], marker\u001b[38;5;241m=\u001b[39m\u001b[38;5;124m'\u001b[39m\u001b[38;5;124mo\u001b[39m\u001b[38;5;124m'\u001b[39m, label\u001b[38;5;241m=\u001b[39mcategory)\n",
      "\u001b[1;31mNameError\u001b[0m: name 'plt' is not defined"
     ]
    }
   ],
   "source": [
    "plt.figure(figsize=(10, 6))\n",
    "for category in categories:\n",
    "    plt.plot(sales_df.index, sales_df[category], marker='o', label=category)\n",
    "plt.xlabel(\"Month\")\n",
    "plt.ylabel(\"Sales\")\n",
    "plt.title(\"Monthly Sales Trends\")\n",
    "plt.legend()\n",
    "plt.grid()\n",
    "plt.show()\n",
    "\n",
    "plt.figure(figsize=(8, 6))\n",
    "sns.boxplot(data=sales_df[categories])\n",
    "plt.title(\"Sales Distribution per Category\")\n",
    "plt.xlabel(\"Category\")\n",
    "plt.ylabel(\"Sales\")\n",
    "plt.show()\n",
    "\n",
    "print(sales_df)\n"
   ]
  },
  {
   "cell_type": "code",
   "execution_count": 5,
   "id": "b5451e3a-91fd-4b8e-945b-b1ba8d6da914",
   "metadata": {},
   "outputs": [
    {
     "name": "stdout",
     "output_type": "stream",
     "text": [
      "Absolute Values:\n",
      " [[1 2 3]\n",
      " [4 5 6]]\n",
      "Flattened Percentiles:\n",
      " [-3.5 -0.5  2.5]\n",
      "Column-wise Percentiles:\n",
      " [[-2.75 -0.25 -3.75]\n",
      " [-1.5   1.5  -1.5 ]\n",
      " [-0.25  3.25  0.75]]\n",
      "Row-wise Percentiles:\n",
      " [[-0.5 -5. ]\n",
      " [ 1.  -4. ]\n",
      " [ 2.   0.5]]\n",
      "Flattened - Mean: -0.5 Median: -0.5 Std Dev: 3.8622100754188224\n",
      "Column-wise - Mean: [-1.5  1.5 -1.5] Median: [-1.5  1.5 -1.5] Std Dev: [2.5 3.5 4.5]\n",
      "Row-wise - Mean: [ 0.66666667 -1.66666667] Median: [ 1. -4.] Std Dev: [2.05480467 4.78423336]\n",
      "     Electronics  Clothing  Home & Kitchen  Sports  Total Sales  Growth Rate\n",
      "Jan       3756.6      4507            1860    2294        12835          NaN\n",
      "Feb       1917.0      2095            4772    4092        13089     1.978964\n",
      "Mar       2374.2      3169            1466    2238         9511   -27.335931\n",
      "Apr       1197.0      2482            3135    4444        11391    19.766586\n",
      "May       3753.9      3919            4735    1130        13955    22.508998\n",
      "Jun       2416.5      4380            1769    3391        12225   -12.396990\n",
      "Jul       2263.5      4485            3853    3433        14286    16.858896\n",
      "Aug       1993.5      1955            3324    2184         9678   -32.255355\n",
      "Sep       1313.1      4385            1021    3300        10165     5.032031\n",
      "Oct       1572.3      3904            4632    1474        11757    15.661584\n",
      "Nov       1873.8      3558            4753    3047        13440    14.314876\n",
      "Dec       4092.3      3747            1975    2806        13075    -2.715774\n"
     ]
    }
   ],
   "source": [
    "array = np.array([[1, -2, 3], [-4, 5, -6]])\n",
    "absolute_values = np.abs(array)\n",
    "print(\"Absolute Values:\\n\", absolute_values)\n",
    "\n",
    "flattened_percentiles = np.percentile(array, [25, 50, 75])\n",
    "column_percentiles = np.percentile(array, [25, 50, 75], axis=0)\n",
    "row_percentiles = np.percentile(array, [25, 50, 75], axis=1)\n",
    "\n",
    "print(\"Flattened Percentiles:\\n\", flattened_percentiles)\n",
    "print(\"Column-wise Percentiles:\\n\", column_percentiles)\n",
    "print(\"Row-wise Percentiles:\\n\", row_percentiles)\n",
    "\n",
    "mean_flattened = np.mean(array)\n",
    "median_flattened = np.median(array)\n",
    "std_flattened = np.std(array)\n",
    "\n",
    "mean_columns = np.mean(array, axis=0)\n",
    "median_columns = np.median(array, axis=0)\n",
    "std_columns = np.std(array, axis=0)\n",
    "\n",
    "mean_rows = np.mean(array, axis=1)\n",
    "median_rows = np.median(array, axis=1)\n",
    "std_rows = np.std(array, axis=1)\n",
    "\n",
    "print(\"Flattened - Mean:\", mean_flattened, \"Median:\", median_flattened, \"Std Dev:\", std_flattened)\n",
    "print(\"Column-wise - Mean:\", mean_columns, \"Median:\", median_columns, \"Std Dev:\", std_columns)\n",
    "print(\"Row-wise - Mean:\", mean_rows, \"Median:\", median_rows, \"Std Dev:\", std_rows)\n",
    "\n",
    "print(sales_df)\n"
   ]
  },
  {
   "cell_type": "code",
   "execution_count": 6,
   "id": "d5e238a1-ec7b-4867-a8f5-0340635184ef",
   "metadata": {},
   "outputs": [
    {
     "name": "stdout",
     "output_type": "stream",
     "text": [
      "Floor Values: [-2. -2. -1.  0.  1.  1.  3.]\n",
      "Ceiling Values: [-1. -1. -0.  1.  2.  2.  3.]\n",
      "Truncated Values: [-1. -1. -0.  0.  1.  1.  3.]\n",
      "Rounded Values: [-2. -2. -0.  0.  2.  2.  3.]\n",
      "Swapped List: [1, 4, 3, 2, 5]\n",
      "Swapped Set: {40, 10, 50, 20, 30}\n",
      "     Electronics  Clothing  Home & Kitchen  Sports  Total Sales  Growth Rate\n",
      "Jan       3756.6      4507            1860    2294        12835          NaN\n",
      "Feb       1917.0      2095            4772    4092        13089     1.978964\n",
      "Mar       2374.2      3169            1466    2238         9511   -27.335931\n",
      "Apr       1197.0      2482            3135    4444        11391    19.766586\n",
      "May       3753.9      3919            4735    1130        13955    22.508998\n",
      "Jun       2416.5      4380            1769    3391        12225   -12.396990\n",
      "Jul       2263.5      4485            3853    3433        14286    16.858896\n",
      "Aug       1993.5      1955            3324    2184         9678   -32.255355\n",
      "Sep       1313.1      4385            1021    3300        10165     5.032031\n",
      "Oct       1572.3      3904            4632    1474        11757    15.661584\n",
      "Nov       1873.8      3558            4753    3047        13440    14.314876\n",
      "Dec       4092.3      3747            1975    2806        13075    -2.715774\n"
     ]
    }
   ],
   "source": [
    "a = np.array([-1.8, -1.6, -0.5, 0.5, 1.6, 1.8, 3.0])\n",
    "\n",
    "floor_values = np.floor(a)\n",
    "ceiling_values = np.ceil(a)\n",
    "truncated_values = np.trunc(a)\n",
    "rounded_values = np.round(a)\n",
    "\n",
    "print(\"Floor Values:\", floor_values)\n",
    "print(\"Ceiling Values:\", ceiling_values)\n",
    "print(\"Truncated Values:\", truncated_values)\n",
    "print(\"Rounded Values:\", rounded_values)\n",
    "\n",
    "def swap_list_elements(lst, idx1, idx2):\n",
    "    temp = lst[idx1]\n",
    "    lst[idx1] = lst[idx2]\n",
    "    lst[idx2] = temp\n",
    "    return lst\n",
    "my_list = [1, 2, 3, 4, 5]\n",
    "swapped_list = swap_list_elements(my_list, 1, 3)\n",
    "print(\"Swapped List:\", swapped_list)\n",
    "\n",
    "def swap_set_elements(s, elem1, elem2):\n",
    "    lst = list(s)\n",
    "    if elem1 in lst and elem2 in lst:\n",
    "        idx1, idx2 = lst.index(elem1), lst.index(elem2)\n",
    "        lst[idx1], lst[idx2] = lst[idx2], lst[idx1]\n",
    "        return set(lst)\n",
    "    return s\n",
    "\n",
    "my_set = {10, 20, 30, 40, 50}\n",
    "swapped_set = swap_set_elements(my_set, 20, 40)\n",
    "print(\"Swapped Set:\", swapped_set)\n",
    "print(sales_df)\n"
   ]
  },
  {
   "cell_type": "code",
   "execution_count": null,
   "id": "620e2a04-7b46-4232-bf2d-16bcf155a463",
   "metadata": {},
   "outputs": [],
   "source": []
  }
 ],
 "metadata": {
  "kernelspec": {
   "display_name": "Python 3 (ipykernel)",
   "language": "python",
   "name": "python3"
  },
  "language_info": {
   "codemirror_mode": {
    "name": "ipython",
    "version": 3
   },
   "file_extension": ".py",
   "mimetype": "text/x-python",
   "name": "python",
   "nbconvert_exporter": "python",
   "pygments_lexer": "ipython3",
   "version": "3.13.1"
  }
 },
 "nbformat": 4,
 "nbformat_minor": 5
}
